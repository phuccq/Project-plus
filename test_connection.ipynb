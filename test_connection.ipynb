{
 "cells": [
  {
   "cell_type": "code",
   "execution_count": 14,
   "id": "57fd1766",
   "metadata": {},
   "outputs": [
    {
     "name": "stdout",
     "output_type": "stream",
     "text": [
      "<mysql.connector.connection_cext.CMySQLConnection object at 0x000002671BC5EA60>\n",
      "[('s01',), ('s02',), ('s03',), ('s03',)]\n",
      "s01\n",
      "s02\n",
      "s03\n",
      "s03\n"
     ]
    }
   ],
   "source": [
    "import mysql.connector\n",
    "\n",
    "mydb = mysql.connector.connect(host='localhost', database='mysql',user='root', password='cqphuc@3009')\n",
    "print(mydb)\n",
    "\n",
    "mycursor = mydb.cursor()\n",
    "\n",
    "mycursor.execute(\"SELECT stu_id FROM msd_student\")\n",
    "students_id = mycursor.fetchall()\n",
    "print(students_id)\n",
    "for stu_id in students_id:\n",
    "    print(stu_id[0])"
   ]
  },
  {
   "cell_type": "code",
   "execution_count": null,
   "id": "25af13ce",
   "metadata": {},
   "outputs": [],
   "source": []
  }
 ],
 "metadata": {
  "kernelspec": {
   "display_name": "Python 3",
   "language": "python",
   "name": "python3"
  },
  "language_info": {
   "codemirror_mode": {
    "name": "ipython",
    "version": 3
   },
   "file_extension": ".py",
   "mimetype": "text/x-python",
   "name": "python",
   "nbconvert_exporter": "python",
   "pygments_lexer": "ipython3",
   "version": "3.8.8"
  }
 },
 "nbformat": 4,
 "nbformat_minor": 5
}
